{
 "cells": [
  {
   "cell_type": "markdown",
   "metadata": {},
   "source": [
    "# For L7 epoch"
   ]
  },
  {
   "cell_type": "code",
   "execution_count": 1,
   "metadata": {},
   "outputs": [],
   "source": [
    "import requests\n",
    "import json\n",
    "import numpy as np\n",
    "\n",
    "# ['5','6','7','8','9'] = [\"JUPITER BARYCENTER\", \"SATURN BARYCENTER\", \"URANUS BARYCENTER\", \"NEPTUNE BARYCENTER\", \"PLUTO BARYCENTER\"]\n",
    "planets = ['5','6','7','8','9']\n",
    "orbital_elements = []\n",
    "for planet in planets:\n",
    "    # Construct the API URL\n",
    "    # Date is 2004-06-01\n",
    "    date  = '2004-06-01'\n",
    "    edate = '2004-06-02'\n",
    "    units = 'AU-D'\n",
    "    \n",
    "    url = f\"https://ssd.jpl.nasa.gov/api/horizons.api?format=text&COMMAND='{planet}'&OBJ_DATA='YES'&MAKE_EPHEM='YES'&EPHEM_TYPE='ELEMENT'&CENTER='500@0'&START_TIME='{date}'&STOP_TIME='{edate}'&STEP_SIZE='1%20d'&CSV_FORMAT='YES&OUT_UNITS='{units}'\"\n",
    "    # Send an HTTP GET request to the API\n",
    "    response = requests.get(url)\n",
    "    \n",
    "    # List: [EC, QR, IN, OM, W , Tp ,N , MA, TA ,A , AD, PR]\n",
    "    #       [0   1   2   3   4   5   6   7   8   9   10  11]\n",
    "    str = response.text\n",
    "\n",
    "    #Get just the data from string ####consider using json instead####\n",
    "    data = (((str.split('$$SOE\\n')[1]).split('\\n$$EOE')[0]).split('\\n')[0][52:]).split(',')\n",
    "\n",
    "    # Extract the orbital elements from the response\n",
    "    a = eval(data[9]) # Semi-major axis (in AU)\n",
    "    e = eval(data[0]) # Eccentricity\n",
    "    inc = eval(data[2]) # Inclination (in degrees)\n",
    "    Omega = eval(data[3]) # Longitude of the ascending node (in degrees)\n",
    "    omega = eval(data[4]) # Argument of perihelion (in degrees)\n",
    "    f = eval(data[8]) # True anomaly (in degrees)\n",
    "\n",
    "    # Append the orbital elements to empty list\n",
    "    orbital_elements.append({\"a\": a, \"e\": e, \"inc\": inc, \"Omega\": Omega, \"omega\": omega, \"f\": f})\n",
    "\n",
    "# Convert degrees to radians\n",
    "for elem in orbital_elements:\n",
    "    elem[\"inc\"] = np.deg2rad(elem[\"inc\"])\n",
    "    elem[\"omega\"] = np.deg2rad(elem[\"omega\"])\n",
    "    elem[\"Omega\"] = np.deg2rad(elem[\"Omega\"])\n",
    "    elem[\"f\"] = np.deg2rad(elem[\"f\"])"
   ]
  },
  {
   "attachments": {},
   "cell_type": "markdown",
   "metadata": {},
   "source": [
    "# For MPC"
   ]
  },
  {
   "cell_type": "code",
   "execution_count": 1,
   "metadata": {},
   "outputs": [],
   "source": [
    "import requests\n",
    "import json\n",
    "import numpy as np\n",
    "\n",
    "headers = ['JDTDB', 'Calendar Date (TDB)', 'EC', 'QR', 'IN', 'OM', 'W', 'Tp', 'N', 'MA', 'TA', 'A', 'AD', 'PR']\n",
    "# ['5','6','7','8','9'] = [\"JUPITER BARYCENTER\", \"SATURN BARYCENTER\", \"URANUS BARYCENTER\", \"NEPTUNE BARYCENTER\", \"PLUTO BARYCENTER\"]\n",
    "planets = ['5','6','7','8','9']\n",
    "epochs = []\n",
    "for planet in planets:\n",
    "    orbital_elements = []\n",
    "    # Construct the API URL\n",
    "    # Date is 2004-06-01\n",
    "    date  = '1994-9-24'\n",
    "    edate = '2023-2-25'\n",
    "    units = 'AU-D'\n",
    "    step_size_hr=12\n",
    "    \n",
    "    url = f\"https://ssd.jpl.nasa.gov/api/horizons.api?format=text&COMMAND='{planet}'&OBJ_DATA='YES'&MAKE_EPHEM='YES'&EPHEM_TYPE='ELEMENT'&CENTER='500@0'&START_TIME='{date}'&STOP_TIME='{edate}'&STEP_SIZE='{step_size_hr}%20h'&CSV_FORMAT='YES&OUT_UNITS='{units}'\"\n",
    "    # Send an HTTP GET request to the API\n",
    "    response = requests.get(url)\n",
    "    values_list = [value.split(',')[:-1] for value in (response.text.split('\\n')[37:-66])]\n",
    "    \n",
    "    \n",
    "    # List: [EC, QR, IN, OM, W , Tp ,N , MA, TA ,A , AD, PR]\n",
    "    #       [0   1   2   3   4   5   6   7   8   9   10  11]\n",
    "    for values in values_list:\n",
    "        params = dict(zip(headers, values))\n",
    "        orbital_elements.append(params)\n",
    "    epochs.append(orbital_elements)\n",
    "\n",
    "\n",
    "## Convert degrees to radians\n",
    "#for elem in orbital_elements:\n",
    "#    elem[\"inc\"] = np.deg2rad(elem[\"inc\"])\n",
    "#    elem[\"omega\"] = np.deg2rad(elem[\"omega\"])\n",
    "#    elem[\"Omega\"] = np.deg2rad(elem[\"Omega\"])\n",
    "#    elem[\"f\"] = np.deg2rad(elem[\"f\"])"
   ]
  },
  {
   "cell_type": "code",
   "execution_count": 18,
   "metadata": {},
   "outputs": [
    {
     "data": {
      "text/plain": [
       "{'JDTDB': '2449620.000000000',\n",
       " 'Calendar Date (TDB)': ' A.D. 1994-Sep-24 12:00:00.0000',\n",
       " 'EC': '  8.644393445029328E-03',\n",
       " 'QR': '  2.980990514101379E+01',\n",
       " 'IN': '  1.770105813810094E+00',\n",
       " 'OM': '  1.317838124196468E+02',\n",
       " 'W': '  2.735291933437573E+02',\n",
       " 'Tp': '  2.468336836645805E+06',\n",
       " 'N': '  5.980879473811010E-03',\n",
       " 'MA': '  2.480568558904322E+02',\n",
       " 'TA': '  2.471417780080189E+02',\n",
       " 'A': '  3.006984067463468E+01',\n",
       " 'AD': '  3.032977620825557E+01',\n",
       " 'PR': '  6.019181653406708E+04'}"
      ]
     },
     "execution_count": 18,
     "metadata": {},
     "output_type": "execute_result"
    }
   ],
   "source": [
    "epochs[3][0]"
   ]
  },
  {
   "cell_type": "code",
   "execution_count": 19,
   "metadata": {},
   "outputs": [],
   "source": [
    "import csv\n",
    "\n",
    "to_csv = epochs[3]\n",
    "\n",
    "keys = to_csv[3].keys()\n",
    "\n",
    "with open('Neptune.csv', 'w', newline='') as output_file:\n",
    "    dict_writer = csv.DictWriter(output_file, keys)\n",
    "    dict_writer.writeheader()\n",
    "    dict_writer.writerows(to_csv)"
   ]
  }
 ],
 "metadata": {
  "kernelspec": {
   "display_name": "Python 3",
   "language": "python",
   "name": "python3"
  },
  "language_info": {
   "codemirror_mode": {
    "name": "ipython",
    "version": 3
   },
   "file_extension": ".py",
   "mimetype": "text/x-python",
   "name": "python",
   "nbconvert_exporter": "python",
   "pygments_lexer": "ipython3",
   "version": "3.9.13 (v3.9.13:6de2ca5339, May 17 2022, 11:37:23) \n[Clang 13.0.0 (clang-1300.0.29.30)]"
  },
  "orig_nbformat": 4,
  "vscode": {
   "interpreter": {
    "hash": "aee8b7b246df8f9039afb4144a1f6fd8d2ca17a180786b69acc140d282b71a49"
   }
  }
 },
 "nbformat": 4,
 "nbformat_minor": 2
}
